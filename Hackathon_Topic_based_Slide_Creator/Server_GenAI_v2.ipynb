{
 "cells": [
  {
   "cell_type": "code",
   "execution_count": 1,
   "id": "874a2dbc-de42-44e2-997b-11b1368fc4ec",
   "metadata": {},
   "outputs": [],
   "source": [
    "# !pip install -r requirements.txt"
   ]
  },
  {
   "cell_type": "code",
   "execution_count": 1,
   "id": "9b1198a8-ab82-46a4-92a4-1fd667a315c6",
   "metadata": {},
   "outputs": [],
   "source": [
    "import pandas as pd, numpy as np, re, os, base64\n",
    "import subprocess\n",
    "import openai, requests, json\n",
    "from langchain import PromptTemplate\n",
    "from langchain.llms import OpenAI\n",
    "from langchain.chat_models import ChatOpenAI\n",
    "from langchain.chains import LLMChain\n",
    "from langchain.chains import SimpleSequentialChain, SequentialChain\n",
    "from langchain.agents.tools import Tool\n",
    "from langchain.tools import BaseTool\n",
    "from langchain.memory import ConversationBufferMemory\n",
    "from pptx import Presentation \n",
    "from pptx.util import Inches\n",
    "from pptx.enum.text import PP_ALIGN\n",
    "from pptx.util import Pt\n",
    "from dotenv import load_dotenv, find_dotenv\n",
    "import re"
   ]
  },
  {
   "cell_type": "code",
   "execution_count": 2,
   "id": "718cc069-6c53-40d0-a7f6-e7dfb98ae93e",
   "metadata": {},
   "outputs": [],
   "source": [
    "_ = load_dotenv(\"xxxxxx.env\") # read local .env file"
   ]
  },
  {
   "cell_type": "code",
   "execution_count": 3,
   "id": "fa633d48-c246-4b2a-acc5-8e3ee1b710ca",
   "metadata": {},
   "outputs": [],
   "source": [
    "api_host = 'https://api.stability.ai'\n",
    "sd_api_key = os.getenv('STABLE_DIFFUSION_API_KEY') # os.getenv('STABLE_DIFFUSION_API_KEY')\n",
    "engine_id = \"stable-diffusion-xl-1024-v1-0\"\n",
    "sd_api =  f\"{api_host}/v1/generation/{engine_id}/text-to-image\"\n",
    "headers = {\n",
    "            \"Content-Type\": \"application/json\",\n",
    "            \"Accept\": \"application/json\",\n",
    "            \"Authorization\": f\"Bearer {sd_api_key}\"\n",
    "            }"
   ]
  },
  {
   "cell_type": "code",
   "execution_count": 4,
   "id": "5c867177-98c8-4ee5-8817-2e8402b6dfbd",
   "metadata": {},
   "outputs": [],
   "source": [
    "#-----------------------------------------------------------------------------------------------------------------------------------------------------\n",
    "#                                                               CODE FOR LANGCHAIN OPENAI CALLS # pip install langchain, openai\n",
    "#-----------------------------------------------------------------------------------------------------------------------------------------------------\n",
    "\n",
    "class ContentGeneration:\n",
    "    def __init__(self, num_slides, description):\n",
    "        self.num_slides = num_slides\n",
    "        self.description = description\n",
    "\n",
    "    def init_model(self):\n",
    "        return ChatOpenAI(openai_api_key=os.getenv(\"OPENAI_API_KEY\"),\n",
    "             model = \"gpt-3.5-turbo\", temperature=0)\n",
    "    \n",
    "    def prompt_engg(self):\n",
    "        template =  \"\"\"\n",
    "        Summarize the text delimited by triple backtics\\\n",
    "        in the form of PowerPoint Slides.\n",
    "        Please summarize the text in the {num_slides} slides.\\\n",
    "        Also Add Title of Each Slide in the Summary in the\\\n",
    "        following format.\n",
    "        Slide 1 : Title of slide\\\n",
    "        - Pointer 1\n",
    "        - Pointer 2\n",
    "        - Pointer 3\n",
    "        - Pointer 4\n",
    "        - Pointer 5\n",
    "        Slide 2 : Title of Slide\\\n",
    "        - Pointer 1\n",
    "        - Pointer 2\n",
    "        - Pointer 3\n",
    "        - Pointer 4\n",
    "        - Pointer 5\n",
    "        ```{text}```\n",
    "        Along the with above summary, Also generate metadata JSON containing \\\n",
    "        number of slides and title of each slides as \\\n",
    "        list within the JSON Keys are 'num_slides','slide_titles'. Also, generate a title for the whole presentation. \n",
    "        Generate the number of slides exactly equal to the {num_slides}.\n",
    "        Give your output in dictionary format. Ex: {{\"summary\": {{\"slide1: title\": [pointers],\n",
    "                           \"slide2: title\": [pointers],\n",
    "                            .....}},\n",
    "              \"json_output\": <metadata>,\n",
    "              \"title\": <title of presentation>}}\n",
    "        \"\"\"\n",
    "        return PromptTemplate(template=template, input_variables=[\"text\",\"num_slides\"])\n",
    "\n",
    "\n",
    "    def output_parser(self, response):\n",
    "        if isinstance(response, str):\n",
    "            response = json.loads(response)\n",
    "        return response[\"summary\"], response[\"json_output\"], response[\"title\"]\n",
    "    \n",
    "    \n",
    "    def content_generator(self):\n",
    "        llm = self.init_model()\n",
    "        prompt = self.prompt_engg()\n",
    "        llm_chain = LLMChain(prompt=prompt, llm=llm)\n",
    "        response = llm_chain.run({\"text\":self.description,\"num_slides\":self.num_slides})\n",
    "        return self.output_parser(response)\n",
    "\n",
    "#--------------------------------------------------------------------------------------------------------------------------------------------------\n",
    "#                                                            CODE FOR IMAGE PROMPTS\n",
    "#--------------------------------------------------------------------------------------------------------------------------------------------------\n",
    "\n",
    "    def image_prompt(self):\n",
    "        prompt = \"\"\"\n",
    "        Summarize each slides pointer in 8-10 words delimited by triple backticks \\\n",
    "        as a prompt for power point background images related to the description and Start with\\\n",
    "        realistic Keyword.\\\n",
    "        Use Following Format:\n",
    "        Slide 1 Image Prompt: Realistic image as per the context of Slide.  \n",
    "        Slide 2 Image Prompt: Realistic image as per the context of Slide. \n",
    "        ......\n",
    "        ......\n",
    "        Please summarize the text in the {num_slides} slides.\\\n",
    "        ```{response}```\n",
    "        Give your output in a proper python dictionary key/ value pair format. Ex: {{\"Slide 1 Image Prompt\": \"Realistic image as per the context of Slide\",\n",
    "             \"Slide 2 Image Prompt\": \"Realistic image as per the context of Slide\",\n",
    "             ..........: .............,\n",
    "             ..........: .............}}\n",
    "        \"\"\"\n",
    "        return PromptTemplate(template=prompt, input_variables=[\"response\", \"num_slides\"])\n",
    "\n",
    "\n",
    "    def output_img_parser(self, response):\n",
    "        if isinstance(response, str):\n",
    "            response = json.loads(response)\n",
    "        return response\n",
    "\n",
    "\n",
    "    def image_content(self,response):\n",
    "        llm = self.init_model()\n",
    "        prompt = self.image_prompt()\n",
    "        llm_chain = LLMChain(prompt=prompt, llm=llm)\n",
    "        response = llm_chain.run({\"response\":response,\"num_slides\":self.num_slides})\n",
    "        print(\"-------IMAGE CONTENT RESPONSE\", response)\n",
    "        return self.output_img_parser(response)\n",
    "    "
   ]
  },
  {
   "cell_type": "code",
   "execution_count": 5,
   "id": "e608e945-2666-4bb4-a066-18e24d80b72e",
   "metadata": {},
   "outputs": [],
   "source": [
    "#-----------------------------------------------------------------------------------------------------------------------------------------------------\n",
    "#                                                               CODE FOR IMAGE GENERATION\n",
    "#-----------------------------------------------------------------------------------------------------------------------------------------------------\n",
    "\n",
    "class ImageGeneration:    \n",
    "    def save_image(self, response,fname):\n",
    "        print(\"response_code\", response.status_code)\n",
    "        if response.status_code == 200:\n",
    "            data = response.json()\n",
    "            for image in data[\"artifacts\"]:\n",
    "                with open(f\"{fname}.png\", \"wb\") as f:\n",
    "                    f.write(base64.b64decode(image[\"base64\"]))\n",
    "    \n",
    "    def generate_image(self, image_description,fname):\n",
    "        response = requests.post(\n",
    "                                f\"{api_host}/v1/generation/{engine_id}/text-to-image\",\n",
    "                                headers=headers,\n",
    "                                json={\n",
    "                                    \"text_prompts\": [\n",
    "                                        {\n",
    "                                            \"text\": f\"\"\"You will help me generate a realisitic image for a business presentation \\\n",
    "                                                        within the context of an IT company as per the provided text below. \\\n",
    "                                                        Generate a high-resolution image featuring \\\n",
    "                                                        clear objects. Do not include any text or animated elements in the image. \\\n",
    "                                                        Emphasize the realistic appearance of the objects to create a genuine and non-animated visual composition.\\\n",
    "                                                        {image_description}\"\"\"\n",
    "                                        }\n",
    "                                    ],\n",
    "                                    \"cfg_scale\": 14,\n",
    "                                    \"height\": 1024,\n",
    "                                    \"width\": 1024,\n",
    "                                    \"samples\": 1,\n",
    "                                    \"steps\": 30,\n",
    "                                    \"seed\":10\n",
    "                                },\n",
    "                                verify =False\n",
    "                            )\n",
    "        return self.save_image(response,fname)\n"
   ]
  },
  {
   "cell_type": "code",
   "execution_count": 6,
   "id": "b0582537-4d13-4fcd-b64a-bad62935745a",
   "metadata": {},
   "outputs": [],
   "source": [
    "# --------------------------------------------------------------------------------------------------------------------------------------------------------------\n",
    "#                                                           CODE FOR GENRATING SLIDES    # pip install python-pptx\n",
    "# --------------------------------------------------------------------------------------------------------------------------------------------------------------\n",
    "\n",
    "class GeneratePresentation:\n",
    "\n",
    "    def ppt_obj(self,title):\n",
    "        ppt = Presentation()\n",
    "        title_slide_layout = ppt.slide_layouts[0]\n",
    "        slide = ppt.slides.add_slide(title_slide_layout)\n",
    "        slide.shapes.title.text = title.upper()  # \"Revolutionizing Fraud Detection: ZipAuto's Cloud-Powered Breakthrough in Claims Analysis\"\n",
    "        # slide.shapes.title.left = Inches(0.09)\n",
    "        # slide.shapes.title.top = Inches(0.05)\n",
    "        # slide.shapes.title.width = int(ppt.slide_width/2)-Inches(0.08)\n",
    "        # slide.shapes.title.height = Inches(1)\n",
    "        title_para = slide.shapes.title.text_frame.paragraphs[0]\n",
    "        title_para.font.name = \"Graphik\"\n",
    "        title_para.font.bold = True\n",
    "        title_para.font.size = Pt(32)\n",
    "        # left = int(ppt.slide_width/2)\n",
    "        # top = Inches(0)\n",
    "        # pic = slide.shapes.add_picture(\"./io/img_slide_1.png\", left, top, width=int(ppt.slide_width/2), height=ppt.slide_height)\n",
    "        # # This moves images to the background\n",
    "        # slide.shapes._spTree.remove(pic._element)\n",
    "        # slide.shapes._spTree.insert(2, pic._element)\n",
    "        return ppt\n",
    "\n",
    "    def gen_slide_content(self,ppt,img,slide_title, pointers_text_list):\n",
    "        page  = re.sub(r\"\\D\", \"\", slide_title)\n",
    "        page = int(page)-1\n",
    "        blank_slide_layout = ppt.slide_layouts[1]\n",
    "        slide = ppt.slides.add_slide(blank_slide_layout)\n",
    "        slide.shapes.title.text = re.sub(r\"Slide [0-9]|SLIDE [0-9]|Slide[0-9]|SLIDE[0-9]|:\",\"\",slide_title).strip().upper() # \"ZipAuto's Challenge\"\n",
    "        slide.shapes.title.left = Inches(0.09)\n",
    "        slide.shapes.title.top = Inches(0.05)\n",
    "        slide.shapes.title.width = int(ppt.slide_width/2)-Inches(0.08)\n",
    "        slide.shapes.title.height = Inches(1)\n",
    "        title_para = slide.shapes.title.text_frame.paragraphs[0]\n",
    "        title_para.font.name = \"Graphik\"\n",
    "        title_para.font.bold = True\n",
    "        title_para.font.size = Pt(22)\n",
    "        title_para.alignment = PP_ALIGN.LEFT\n",
    "        # left = Inches(1)\n",
    "        # top = Inches(1)\n",
    "        # width = Inches(4)\n",
    "        # height = Inches(3)\n",
    "\n",
    "\n",
    "        left = int(ppt.slide_width/2)\n",
    "        top = Inches(0)\n",
    "        pic = slide.shapes.add_picture(os.path.abspath(img[page]), left, top, width=int(ppt.slide_width/2), height=ppt.slide_height)\n",
    "        # This moves images to the background\n",
    "        slide.shapes._spTree.remove(pic._element)\n",
    "        slide.shapes._spTree.insert(2, pic._element)\n",
    "\n",
    "        for pointer in pointers_text_list:\n",
    "            point = slide.shapes.placeholders[1].text_frame.add_paragraph()\n",
    "            slide.shapes.placeholders[1].left=Inches(0.08)\n",
    "            slide.shapes.placeholders[1].top=int(ppt.slide_height/6)\n",
    "            slide.shapes.placeholders[1].width=int(ppt.slide_width/2)-Inches(0.08)\n",
    "            slide.shapes.placeholders[1].height=Inches(5)\n",
    "            point.text = pointer.replace(\"-\",\"\")  # \"A surge in fraudulent auto claims\"\n",
    "            point.level = 0\n",
    "            point.font.name = \"Graphik\"\n",
    "            point.font.bold = False\n",
    "            point.font.size = Pt(18)\n",
    "            point.alignment = PP_ALIGN.LEFT\n",
    "\n",
    "        return ppt\n",
    "\n",
    "    \n",
    "    def convert_pptx_to_pdf(self, input_path, output_path):\n",
    "        try:\n",
    "            subprocess.run([\"libreoffice\", \"--headless\", \"--convert-to\", \"pdf\", input_path])\n",
    "            print(\"Conversion completed successfully.\")\n",
    "        except Exception as e:\n",
    "            print(\"Conversion failed:\", e)\n",
    "    \n",
    "    \n",
    "    def generate_presentation(self,title, content,img,inputFileName = \"output.pptx\",outputFileName=\"output.pdf\"):\n",
    "        ppt = self.ppt_obj(title)#\"Revolutionizing Fraud Detection: ZipAuto's Cloud-Powered Breakthrough in Claims Analysis\")\n",
    "\n",
    "        for key, val in content.items():\n",
    "            updated_ppt = self.gen_slide_content(ppt, img,slide_title=key, pointers_text_list=val)\n",
    "\n",
    "        updated_ppt.save(inputFileName)\n",
    "\n",
    "        self.convert_pptx_to_pdf(inputFileName, outputFileName)\n"
   ]
  },
  {
   "cell_type": "code",
   "execution_count": 7,
   "id": "561f3ffb-eba1-47ae-810c-cddfb5341734",
   "metadata": {},
   "outputs": [],
   "source": [
    "#--------------------------------------------------------------------------------------------------------------------------------------------------------------\n",
    "#                                                               CORE LOGIC CALL\n",
    "#--------------------------------------------------------------------------------------------------------------------------------------------------------------\n",
    "\n",
    "class Core(ContentGeneration,ImageGeneration,GeneratePresentation):\n",
    "    def __init__(self, num_slides, description):\n",
    "        super().__init__(num_slides, description)\n",
    "\n",
    "    def main(self):\n",
    "        image_list = []\n",
    "        content, json_output, title = self.content_generator()\n",
    "        print(\"------SLIDE CONTENT--------\",content)\n",
    "        img_content = self.image_content(content)\n",
    "        print(\"------Image CONTENT--------\", img_content)\n",
    "        pointer = 1\n",
    "        for key, val in img_content.items():\n",
    "            if isinstance(val, list):\n",
    "                pointers = \" \".join(val)\n",
    "            else:\n",
    "                pointers = val\n",
    "            # image_description = key + \" \" + pointers\n",
    "            image_description = pointers\n",
    "            self.generate_image(image_description, fname=f\"image_slide_{pointer}\")\n",
    "            image_list.append(f\"image_slide_{pointer}.png\")\n",
    "            pointer+=1\n",
    "            \n",
    "        with open(\"output.json\",\"w\") as stream:\n",
    "            json.dump(json_output, stream)\n",
    "        self.generate_presentation(title, content,image_list)\n",
    "        return content"
   ]
  },
  {
   "cell_type": "code",
   "execution_count": 8,
   "id": "e1d8e085-2fdb-4f24-b372-9eb402ad1765",
   "metadata": {},
   "outputs": [
    {
     "name": "stdout",
     "output_type": "stream",
     "text": [
      "     Case_Study_Name  Num_slides  \\\n",
      "0            ZipAuto           5   \n",
      "1            Telecom           7   \n",
      "2          PCL_Costs           6   \n",
      "3       PCL_Payments           4   \n",
      "4  Mayank_Handicraft           5   \n",
      "\n",
      "                                         Description  \n",
      "0  ZipAuto, a leading insurance provider, encount...  \n",
      "1  India's telecom market boasts over 1.15 billio...  \n",
      "2  Power Construction Ltd (PCL) is an engineering...  \n",
      "3  Power Construction Ltd (PCL) is an engineering...  \n",
      "4  The Mayank Handicraft is a leading furniture-m...  \n",
      "range(0, 5)\n",
      "Case_Study_Name ZipAuto\n",
      "current_wd /home/jovyan/ZipAuto\n",
      "try2\n",
      "------SLIDE CONTENT-------- {'Slide 1: Introduction': ['- ZipAuto encountered a surge in fraudulent auto claims', '- Conventional fraud detection methods were inadequate', '- ZipAuto embarked on harnessing machine learning and deep learning capabilities', '- Objective: develop a cloud-based solution for claims fraud analysis', '- Aim: enhance fraud detection capabilities and improve efficiency in claims processing system'], 'Slide 2: Data Integration and Preprocessing': ['- ZipAuto integrated and processed vast volumes of claim data', '- Data underwent preprocessing techniques for cleanliness and transformation', '- Advanced machine learning models were developed to analyze the claim data', '- Techniques employed: supervised learning, anomaly detection, and predictive modeling', '- Deep learning algorithms enabled analysis of supporting images and documents'], 'Slide 3: Benefits of Cloud-based Solution': ['- Cloud-based infrastructure provided scalable processing power and storage capacity', '- Facilitated real-time fraud analysis and convenient access for the claims processing team', '- Significantly higher level of accurate detection of fraudulent auto claims', '- Automation and efficiency reduced time and effort required for fraud analysis', '- Expedited claim settlements and reduced financial losses'], 'Slide 4: Continuous Learning and Risk Reduction': ['- Continuous learning capabilities of machine learning models', '- Proficient in detecting new and unknown fraud patterns', '- Reduced risk of undetected fraudulent claims', '- Stayed at the forefront of evolving fraud techniques', '- Improved fraud detection accuracy'], 'Slide 5: Conclusion': [\"- ZipAuto's cloud-based solution effectively addressed challenges of fraudulent auto claims\", '- Achieved improvements in fraud detection accuracy and operational efficiency', '- Provided robust defense against fraudsters and fair claim settlements', '- Utilized machine learning, deep learning, and cloud infrastructure', '- Ensured prompt and fair claim settlements for genuine policyholders']}\n",
      "-------IMAGE CONTENT RESPONSE {\"Slide 1 Image Prompt\": \"Realistic image of fraudulent auto claims\",\n",
      " \"Slide 2 Image Prompt\": \"Realistic image of data integration and preprocessing\",\n",
      " \"Slide 3 Image Prompt\": \"Realistic image of cloud-based solution benefits\",\n",
      " \"Slide 4 Image Prompt\": \"Realistic image of continuous learning and risk reduction\",\n",
      " \"Slide 5 Image Prompt\": \"Realistic image of conclusion and achievements\"}\n",
      "------Image CONTENT-------- {'Slide 1 Image Prompt': 'Realistic image of fraudulent auto claims', 'Slide 2 Image Prompt': 'Realistic image of data integration and preprocessing', 'Slide 3 Image Prompt': 'Realistic image of cloud-based solution benefits', 'Slide 4 Image Prompt': 'Realistic image of continuous learning and risk reduction', 'Slide 5 Image Prompt': 'Realistic image of conclusion and achievements'}\n"
     ]
    },
    {
     "name": "stderr",
     "output_type": "stream",
     "text": [
      "/opt/conda/lib/python3.11/site-packages/urllib3/connectionpool.py:1056: InsecureRequestWarning: Unverified HTTPS request is being made to host 'api.stability.ai'. Adding certificate verification is strongly advised. See: https://urllib3.readthedocs.io/en/1.26.x/advanced-usage.html#ssl-warnings\n",
      "  warnings.warn(\n"
     ]
    },
    {
     "name": "stdout",
     "output_type": "stream",
     "text": [
      "response_code 200\n"
     ]
    },
    {
     "name": "stderr",
     "output_type": "stream",
     "text": [
      "/opt/conda/lib/python3.11/site-packages/urllib3/connectionpool.py:1056: InsecureRequestWarning: Unverified HTTPS request is being made to host 'api.stability.ai'. Adding certificate verification is strongly advised. See: https://urllib3.readthedocs.io/en/1.26.x/advanced-usage.html#ssl-warnings\n",
      "  warnings.warn(\n"
     ]
    },
    {
     "name": "stdout",
     "output_type": "stream",
     "text": [
      "response_code 200\n"
     ]
    },
    {
     "name": "stderr",
     "output_type": "stream",
     "text": [
      "/opt/conda/lib/python3.11/site-packages/urllib3/connectionpool.py:1056: InsecureRequestWarning: Unverified HTTPS request is being made to host 'api.stability.ai'. Adding certificate verification is strongly advised. See: https://urllib3.readthedocs.io/en/1.26.x/advanced-usage.html#ssl-warnings\n",
      "  warnings.warn(\n"
     ]
    },
    {
     "name": "stdout",
     "output_type": "stream",
     "text": [
      "response_code 200\n"
     ]
    },
    {
     "name": "stderr",
     "output_type": "stream",
     "text": [
      "/opt/conda/lib/python3.11/site-packages/urllib3/connectionpool.py:1056: InsecureRequestWarning: Unverified HTTPS request is being made to host 'api.stability.ai'. Adding certificate verification is strongly advised. See: https://urllib3.readthedocs.io/en/1.26.x/advanced-usage.html#ssl-warnings\n",
      "  warnings.warn(\n"
     ]
    },
    {
     "name": "stdout",
     "output_type": "stream",
     "text": [
      "response_code 200\n"
     ]
    },
    {
     "name": "stderr",
     "output_type": "stream",
     "text": [
      "/opt/conda/lib/python3.11/site-packages/urllib3/connectionpool.py:1056: InsecureRequestWarning: Unverified HTTPS request is being made to host 'api.stability.ai'. Adding certificate verification is strongly advised. See: https://urllib3.readthedocs.io/en/1.26.x/advanced-usage.html#ssl-warnings\n",
      "  warnings.warn(\n"
     ]
    },
    {
     "name": "stdout",
     "output_type": "stream",
     "text": [
      "response_code 200\n",
      "convert /home/jovyan/ZipAuto/output.pptx -> /home/jovyan/ZipAuto/output.pdf using filter : impress_pdf_Export\n",
      "Overwriting: /home/jovyan/ZipAuto/output.pdf\n",
      "Conversion completed successfully.\n",
      "Case_Study_Name Telecom\n",
      "current_wd /home/jovyan/Telecom\n",
      "------SLIDE CONTENT-------- {'Slide 1: Introduction': [\"India's telecom market has over 1.15 billion mobile connections\", 'Prepaid churn rate averages around 6% per month', 'Postpaid churn rate ranges between 2-3%'], 'Slide 2: Importance of Customer Retention': ['Retaining existing customers is a priority for telecom operators', 'High-profitability customers are the primary business goal', 'Churn prediction systems help identify at-risk customers'], 'Slide 3: Challenges Faced by ReliTel': ['ReliTel faces the challenge of expanding data centers', 'Data security and customer privacy are crucial', 'Churn rates have escalated to 10% per month during COVID-19'], 'Slide 4: Solution by ReliTel and Accenture': ['Expand data storage capacity and upgrade data centers', 'Conduct impact analysis of COVID-19 on customer behavior', 'Identify effective customer retention strategies and offers'], 'Slide 5: Benefits of the Collaborative Effort': ['Accurate prediction of churners and understanding customer behavior', 'Enhanced customer satisfaction, loyalty, and retention', 'Efficient data storage, increased security, and improved privacy'], 'Slide 6: Embracing Cloud-Based Solutions': ['Gain agility and adaptability in responding to market dynamics', 'Make informed decisions and optimize operations', 'Address ongoing challenges effectively'], 'Slide 7: Conclusion': [\"ReliTel's commitment to reducing churn and improving customer retention\", 'Importance of data-driven decision-making and cloud-based solutions', 'Optimizing telecom operations and achieving business success']}\n",
      "-------IMAGE CONTENT RESPONSE {\"Slide 1 Image Prompt\": \"Realistic image of a crowded mobile market\",\n",
      " \"Slide 2 Image Prompt\": \"Realistic image of a customer retention strategy\",\n",
      " \"Slide 3 Image Prompt\": \"Realistic image of expanding data centers\",\n",
      " \"Slide 4 Image Prompt\": \"Realistic image of collaboration between ReliTel and Accenture\",\n",
      " \"Slide 5 Image Prompt\": \"Realistic image of accurate churn prediction and customer satisfaction\",\n",
      " \"Slide 6 Image Prompt\": \"Realistic image of cloud-based solutions in telecom\",\n",
      " \"Slide 7 Image Prompt\": \"Realistic image of data-driven decision-making and business success\"}\n",
      "------Image CONTENT-------- {'Slide 1 Image Prompt': 'Realistic image of a crowded mobile market', 'Slide 2 Image Prompt': 'Realistic image of a customer retention strategy', 'Slide 3 Image Prompt': 'Realistic image of expanding data centers', 'Slide 4 Image Prompt': 'Realistic image of collaboration between ReliTel and Accenture', 'Slide 5 Image Prompt': 'Realistic image of accurate churn prediction and customer satisfaction', 'Slide 6 Image Prompt': 'Realistic image of cloud-based solutions in telecom', 'Slide 7 Image Prompt': 'Realistic image of data-driven decision-making and business success'}\n"
     ]
    },
    {
     "name": "stderr",
     "output_type": "stream",
     "text": [
      "/opt/conda/lib/python3.11/site-packages/urllib3/connectionpool.py:1056: InsecureRequestWarning: Unverified HTTPS request is being made to host 'api.stability.ai'. Adding certificate verification is strongly advised. See: https://urllib3.readthedocs.io/en/1.26.x/advanced-usage.html#ssl-warnings\n",
      "  warnings.warn(\n"
     ]
    },
    {
     "name": "stdout",
     "output_type": "stream",
     "text": [
      "response_code 200\n"
     ]
    },
    {
     "name": "stderr",
     "output_type": "stream",
     "text": [
      "/opt/conda/lib/python3.11/site-packages/urllib3/connectionpool.py:1056: InsecureRequestWarning: Unverified HTTPS request is being made to host 'api.stability.ai'. Adding certificate verification is strongly advised. See: https://urllib3.readthedocs.io/en/1.26.x/advanced-usage.html#ssl-warnings\n",
      "  warnings.warn(\n"
     ]
    },
    {
     "name": "stdout",
     "output_type": "stream",
     "text": [
      "response_code 200\n"
     ]
    },
    {
     "name": "stderr",
     "output_type": "stream",
     "text": [
      "/opt/conda/lib/python3.11/site-packages/urllib3/connectionpool.py:1056: InsecureRequestWarning: Unverified HTTPS request is being made to host 'api.stability.ai'. Adding certificate verification is strongly advised. See: https://urllib3.readthedocs.io/en/1.26.x/advanced-usage.html#ssl-warnings\n",
      "  warnings.warn(\n"
     ]
    },
    {
     "name": "stdout",
     "output_type": "stream",
     "text": [
      "response_code 200\n"
     ]
    },
    {
     "name": "stderr",
     "output_type": "stream",
     "text": [
      "/opt/conda/lib/python3.11/site-packages/urllib3/connectionpool.py:1056: InsecureRequestWarning: Unverified HTTPS request is being made to host 'api.stability.ai'. Adding certificate verification is strongly advised. See: https://urllib3.readthedocs.io/en/1.26.x/advanced-usage.html#ssl-warnings\n",
      "  warnings.warn(\n"
     ]
    },
    {
     "name": "stdout",
     "output_type": "stream",
     "text": [
      "response_code 200\n"
     ]
    },
    {
     "name": "stderr",
     "output_type": "stream",
     "text": [
      "/opt/conda/lib/python3.11/site-packages/urllib3/connectionpool.py:1056: InsecureRequestWarning: Unverified HTTPS request is being made to host 'api.stability.ai'. Adding certificate verification is strongly advised. See: https://urllib3.readthedocs.io/en/1.26.x/advanced-usage.html#ssl-warnings\n",
      "  warnings.warn(\n"
     ]
    },
    {
     "name": "stdout",
     "output_type": "stream",
     "text": [
      "response_code 200\n"
     ]
    },
    {
     "name": "stderr",
     "output_type": "stream",
     "text": [
      "/opt/conda/lib/python3.11/site-packages/urllib3/connectionpool.py:1056: InsecureRequestWarning: Unverified HTTPS request is being made to host 'api.stability.ai'. Adding certificate verification is strongly advised. See: https://urllib3.readthedocs.io/en/1.26.x/advanced-usage.html#ssl-warnings\n",
      "  warnings.warn(\n"
     ]
    },
    {
     "name": "stdout",
     "output_type": "stream",
     "text": [
      "response_code 200\n"
     ]
    },
    {
     "name": "stderr",
     "output_type": "stream",
     "text": [
      "/opt/conda/lib/python3.11/site-packages/urllib3/connectionpool.py:1056: InsecureRequestWarning: Unverified HTTPS request is being made to host 'api.stability.ai'. Adding certificate verification is strongly advised. See: https://urllib3.readthedocs.io/en/1.26.x/advanced-usage.html#ssl-warnings\n",
      "  warnings.warn(\n"
     ]
    },
    {
     "name": "stdout",
     "output_type": "stream",
     "text": [
      "response_code 200\n",
      "convert /home/jovyan/Telecom/output.pptx -> /home/jovyan/Telecom/output.pdf using filter : impress_pdf_Export\n",
      "Overwriting: /home/jovyan/Telecom/output.pdf\n",
      "Conversion completed successfully.\n",
      "initial_wd_new_case /home/jovyan\n",
      "Case_Study_Name PCL_Costs\n",
      "current_wd /home/jovyan/PCL_Costs\n",
      "try2\n",
      "------SLIDE CONTENT-------- {'Slide 1: Introduction': ['Power Construction Ltd (PCL) is an engineering, procurement, and construction (EPC) contractor involved in diverse sectors, including buildings, airports, and metros.', 'PCL faced a significant challenge in effectively managing costs and sought to identify specific areas where financial resources were being drained unnecessarily.', 'This case study highlights the steps taken by PCL to address this challenge, the methods employed for cost analysis, and the resulting positive outcomes.'], 'Slide 2: Collaboration with Commercial Department': ['To gain a comprehensive understanding of the available data related to expenses and project costs, PCL initiated collaboration with the Commercial Department.', 'The objective was to identify key areas of expenditure, such as Raw Material, Labor, and Machinery.', 'By analyzing spending trends in relation to the volume of work conducted, PCL aimed to pinpoint areas of inefficiency where expenses were not generating optimal output.'], 'Slide 3: In-depth Analysis of Expenditure Areas': ['Building upon the insights gained from the collaboration with the Commercial Department, PCL embarked on an in-depth analysis of the identified expenditure areas.', 'This analysis involved a meticulous examination of cost patterns, comparisons with industry benchmarks, and identification of outliers.', 'Additionally, the analysis incorporated factors such as project timelines, resource utilization, and quality standards.'], 'Slide 4: On-site Observations': ['To supplement the analysis conducted in the office, PCL decided to observe and oversee on-site activities.', 'This approach provided an opportunity to closely monitor operations, identify potential bottlenecks, and gain practical insights into the utilization of resources.', 'The on-site observations enabled PCL to validate the findings of the cost analysis and obtain a holistic view of the factors impacting cost management.'], 'Slide 5: Positive Outcomes of Cost Analysis': ['The cost analysis conducted by PCL yielded valuable insights and contributed to several positive outcomes for the organization.', 'By identifying areas of inefficiency, PCL was able to implement actionable solutions that optimized spending.', 'This led to more effective cost control and improved overall financial management.'], 'Slide 6: Conclusion': ['The cost analysis conducted by Power Construction Ltd (PCL) played a pivotal role in driving financial optimization, informed decision-making, and operational efficiency.', 'This case study exemplifies the importance of data-driven approaches and proactive cost management in the construction industry, enabling organizations to enhance their competitiveness and achieve better project outcomes.']}\n",
      "-------IMAGE CONTENT RESPONSE {\"Slide 1 Image Prompt\": \"Realistic image of a construction site\",\n",
      " \"Slide 2 Image Prompt\": \"Realistic image of a collaboration meeting\",\n",
      " \"Slide 3 Image Prompt\": \"Realistic image of a financial analysis\",\n",
      " \"Slide 4 Image Prompt\": \"Realistic image of on-site construction activities\",\n",
      " \"Slide 5 Image Prompt\": \"Realistic image of cost control measures\",\n",
      " \"Slide 6 Image Prompt\": \"Realistic image of data-driven decision-making\"}\n",
      "------Image CONTENT-------- {'Slide 1 Image Prompt': 'Realistic image of a construction site', 'Slide 2 Image Prompt': 'Realistic image of a collaboration meeting', 'Slide 3 Image Prompt': 'Realistic image of a financial analysis', 'Slide 4 Image Prompt': 'Realistic image of on-site construction activities', 'Slide 5 Image Prompt': 'Realistic image of cost control measures', 'Slide 6 Image Prompt': 'Realistic image of data-driven decision-making'}\n"
     ]
    },
    {
     "name": "stderr",
     "output_type": "stream",
     "text": [
      "/opt/conda/lib/python3.11/site-packages/urllib3/connectionpool.py:1056: InsecureRequestWarning: Unverified HTTPS request is being made to host 'api.stability.ai'. Adding certificate verification is strongly advised. See: https://urllib3.readthedocs.io/en/1.26.x/advanced-usage.html#ssl-warnings\n",
      "  warnings.warn(\n"
     ]
    },
    {
     "name": "stdout",
     "output_type": "stream",
     "text": [
      "response_code 200\n"
     ]
    },
    {
     "name": "stderr",
     "output_type": "stream",
     "text": [
      "/opt/conda/lib/python3.11/site-packages/urllib3/connectionpool.py:1056: InsecureRequestWarning: Unverified HTTPS request is being made to host 'api.stability.ai'. Adding certificate verification is strongly advised. See: https://urllib3.readthedocs.io/en/1.26.x/advanced-usage.html#ssl-warnings\n",
      "  warnings.warn(\n"
     ]
    },
    {
     "name": "stdout",
     "output_type": "stream",
     "text": [
      "response_code 200\n"
     ]
    },
    {
     "name": "stderr",
     "output_type": "stream",
     "text": [
      "/opt/conda/lib/python3.11/site-packages/urllib3/connectionpool.py:1056: InsecureRequestWarning: Unverified HTTPS request is being made to host 'api.stability.ai'. Adding certificate verification is strongly advised. See: https://urllib3.readthedocs.io/en/1.26.x/advanced-usage.html#ssl-warnings\n",
      "  warnings.warn(\n"
     ]
    },
    {
     "name": "stdout",
     "output_type": "stream",
     "text": [
      "response_code 200\n"
     ]
    },
    {
     "name": "stderr",
     "output_type": "stream",
     "text": [
      "/opt/conda/lib/python3.11/site-packages/urllib3/connectionpool.py:1056: InsecureRequestWarning: Unverified HTTPS request is being made to host 'api.stability.ai'. Adding certificate verification is strongly advised. See: https://urllib3.readthedocs.io/en/1.26.x/advanced-usage.html#ssl-warnings\n",
      "  warnings.warn(\n"
     ]
    },
    {
     "name": "stdout",
     "output_type": "stream",
     "text": [
      "response_code 200\n"
     ]
    },
    {
     "name": "stderr",
     "output_type": "stream",
     "text": [
      "/opt/conda/lib/python3.11/site-packages/urllib3/connectionpool.py:1056: InsecureRequestWarning: Unverified HTTPS request is being made to host 'api.stability.ai'. Adding certificate verification is strongly advised. See: https://urllib3.readthedocs.io/en/1.26.x/advanced-usage.html#ssl-warnings\n",
      "  warnings.warn(\n"
     ]
    },
    {
     "name": "stdout",
     "output_type": "stream",
     "text": [
      "response_code 200\n"
     ]
    },
    {
     "name": "stderr",
     "output_type": "stream",
     "text": [
      "/opt/conda/lib/python3.11/site-packages/urllib3/connectionpool.py:1056: InsecureRequestWarning: Unverified HTTPS request is being made to host 'api.stability.ai'. Adding certificate verification is strongly advised. See: https://urllib3.readthedocs.io/en/1.26.x/advanced-usage.html#ssl-warnings\n",
      "  warnings.warn(\n"
     ]
    },
    {
     "name": "stdout",
     "output_type": "stream",
     "text": [
      "response_code 200\n",
      "convert /home/jovyan/PCL_Costs/output.pptx -> /home/jovyan/PCL_Costs/output.pdf using filter : impress_pdf_Export\n",
      "Overwriting: /home/jovyan/PCL_Costs/output.pdf\n",
      "Conversion completed successfully.\n",
      "Case_Study_Name PCL_Payments\n",
      "current_wd /home/jovyan/PCL_Payments\n",
      "try2\n",
      "Case_Study_Name_Errored PCL_Payments\n",
      "errored_wd_case /home/jovyan\n",
      "Case_Study_Name Mayank_Handicraft\n",
      "current_wd /home/jovyan/Mayank_Handicraft\n",
      "------SLIDE CONTENT-------- {'Slide 1: Challenges Faced by Mayank Handicraft': ['Delays in delivering products to customers within promised timeframe', 'Increased product cancellations', 'Mounting financial losses', 'Declining consumer trust', 'Growing work-in-process inventory'], 'Slide 2: Main Issues Identified in Furniture-Making Process': ['Delayed material availability', 'Inefficient use of software systems', 'Manual handling of materials', 'Inefficient maintenance department', 'High reworking on material'], 'Slide 3: Measures Taken to Address Challenges': ['Placing orders on alternate days', 'Comprehensive training sessions', 'Implementing a belt conveyor system', 'Using custom jigs for repetitive work areas'], 'Slide 4: Results of Implementation': ['Enhanced productivity', 'Reduced downtime', 'Increased operational effectiveness', 'Streamlined production processes', 'Minimized errors'], 'Slide 5: Conclusion': ['Successful address of manual dependency', 'Improved overall plant efficiency', 'Meeting customer demands in a timely manner']}\n",
      "-------IMAGE CONTENT RESPONSE {\"Slide 1 Image Prompt\": \"Realistic image of a delivery truck\",\n",
      " \"Slide 2 Image Prompt\": \"Realistic image of a furniture workshop\",\n",
      " \"Slide 3 Image Prompt\": \"Realistic image of a conveyor belt system\",\n",
      " \"Slide 4 Image Prompt\": \"Realistic image of a streamlined production line\",\n",
      " \"Slide 5 Image Prompt\": \"Realistic image of a satisfied customer\"}\n",
      "------Image CONTENT-------- {'Slide 1 Image Prompt': 'Realistic image of a delivery truck', 'Slide 2 Image Prompt': 'Realistic image of a furniture workshop', 'Slide 3 Image Prompt': 'Realistic image of a conveyor belt system', 'Slide 4 Image Prompt': 'Realistic image of a streamlined production line', 'Slide 5 Image Prompt': 'Realistic image of a satisfied customer'}\n"
     ]
    },
    {
     "name": "stderr",
     "output_type": "stream",
     "text": [
      "/opt/conda/lib/python3.11/site-packages/urllib3/connectionpool.py:1056: InsecureRequestWarning: Unverified HTTPS request is being made to host 'api.stability.ai'. Adding certificate verification is strongly advised. See: https://urllib3.readthedocs.io/en/1.26.x/advanced-usage.html#ssl-warnings\n",
      "  warnings.warn(\n"
     ]
    },
    {
     "name": "stdout",
     "output_type": "stream",
     "text": [
      "response_code 200\n"
     ]
    },
    {
     "name": "stderr",
     "output_type": "stream",
     "text": [
      "/opt/conda/lib/python3.11/site-packages/urllib3/connectionpool.py:1056: InsecureRequestWarning: Unverified HTTPS request is being made to host 'api.stability.ai'. Adding certificate verification is strongly advised. See: https://urllib3.readthedocs.io/en/1.26.x/advanced-usage.html#ssl-warnings\n",
      "  warnings.warn(\n"
     ]
    },
    {
     "name": "stdout",
     "output_type": "stream",
     "text": [
      "response_code 200\n"
     ]
    },
    {
     "name": "stderr",
     "output_type": "stream",
     "text": [
      "/opt/conda/lib/python3.11/site-packages/urllib3/connectionpool.py:1056: InsecureRequestWarning: Unverified HTTPS request is being made to host 'api.stability.ai'. Adding certificate verification is strongly advised. See: https://urllib3.readthedocs.io/en/1.26.x/advanced-usage.html#ssl-warnings\n",
      "  warnings.warn(\n"
     ]
    },
    {
     "name": "stdout",
     "output_type": "stream",
     "text": [
      "response_code 200\n"
     ]
    },
    {
     "name": "stderr",
     "output_type": "stream",
     "text": [
      "/opt/conda/lib/python3.11/site-packages/urllib3/connectionpool.py:1056: InsecureRequestWarning: Unverified HTTPS request is being made to host 'api.stability.ai'. Adding certificate verification is strongly advised. See: https://urllib3.readthedocs.io/en/1.26.x/advanced-usage.html#ssl-warnings\n",
      "  warnings.warn(\n"
     ]
    },
    {
     "name": "stdout",
     "output_type": "stream",
     "text": [
      "response_code 200\n"
     ]
    },
    {
     "name": "stderr",
     "output_type": "stream",
     "text": [
      "/opt/conda/lib/python3.11/site-packages/urllib3/connectionpool.py:1056: InsecureRequestWarning: Unverified HTTPS request is being made to host 'api.stability.ai'. Adding certificate verification is strongly advised. See: https://urllib3.readthedocs.io/en/1.26.x/advanced-usage.html#ssl-warnings\n",
      "  warnings.warn(\n"
     ]
    },
    {
     "name": "stdout",
     "output_type": "stream",
     "text": [
      "response_code 200\n",
      "convert /home/jovyan/Mayank_Handicraft/output.pptx -> /home/jovyan/Mayank_Handicraft/output.pdf using filter : impress_pdf_Export\n",
      "Overwriting: /home/jovyan/Mayank_Handicraft/output.pdf\n",
      "Conversion completed successfully.\n",
      "initial_wd_new_case /home/jovyan\n",
      "cases_to_rerun ['PCL_Payments']\n"
     ]
    }
   ],
   "source": [
    "if __name__==\"__main__\":\n",
    "    df = pd.read_csv(\"test_cases.csv\")\n",
    "    print(df)\n",
    "    print(range(df.shape[0]))\n",
    "    error_case = []\n",
    "    for row in range(df.shape[0]):\n",
    "        try:\n",
    "            print(\"Case_Study_Name\", df['Case_Study_Name'][row])\n",
    "            if os.path.isdir(os.getcwd()+\"/\"+df['Case_Study_Name'][row])==True:\n",
    "                os.chdir(os.getcwd()+\"/\"+df['Case_Study_Name'][row])\n",
    "            else:\n",
    "                os.mkdir(os.getcwd()+\"/\"+df['Case_Study_Name'][row])\n",
    "                os.chdir(os.getcwd()+\"/\"+df['Case_Study_Name'][row])\n",
    "            print(\"current_wd\", os.getcwd())\n",
    "            obj = Core(df['Num_slides'][row], df['Description'][row])\n",
    "            content = obj.main()\n",
    "            os.chdir('..')\n",
    "            print(\"initial_wd_new_case\", os.getcwd())\n",
    "        except Exception as JSONDecodeError:\n",
    "            try:\n",
    "                print(\"try2\")\n",
    "                obj = Core(df['Num_slides'][row], df['Description'][row])\n",
    "                content = obj.main()\n",
    "                os.chdir('..')\n",
    "            except Exception as JSONDecodeError:\n",
    "                print(\"Case_Study_Name_Errored\", df['Case_Study_Name'][row])\n",
    "                error_case.append(df['Case_Study_Name'][row])\n",
    "                os.chdir('..')\n",
    "                print(\"errored_wd_case\", os.getcwd())\n",
    "            continue\n",
    "    print(\"cases_to_rerun\", error_case)"
   ]
  },
  {
   "cell_type": "code",
   "execution_count": null,
   "id": "dd445cb6-8098-4246-be0a-af88c670f6f4",
   "metadata": {},
   "outputs": [],
   "source": []
  },
  {
   "cell_type": "code",
   "execution_count": null,
   "id": "b7a992b8-5e14-42f1-a630-da2c808d135a",
   "metadata": {},
   "outputs": [],
   "source": []
  },
  {
   "cell_type": "code",
   "execution_count": null,
   "id": "2680c8d9-ef1f-425e-bf54-a850f9bb2033",
   "metadata": {},
   "outputs": [],
   "source": []
  }
 ],
 "metadata": {
  "kernelspec": {
   "display_name": "Python 3 (ipykernel)",
   "language": "python",
   "name": "python3"
  },
  "language_info": {
   "codemirror_mode": {
    "name": "ipython",
    "version": 3
   },
   "file_extension": ".py",
   "mimetype": "text/x-python",
   "name": "python",
   "nbconvert_exporter": "python",
   "pygments_lexer": "ipython3",
   "version": "3.9.7"
  }
 },
 "nbformat": 4,
 "nbformat_minor": 5
}
